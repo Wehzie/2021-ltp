{
 "metadata": {
  "language_info": {
   "codemirror_mode": {
    "name": "ipython",
    "version": 3
   },
   "file_extension": ".py",
   "mimetype": "text/x-python",
   "name": "python",
   "nbconvert_exporter": "python",
   "pygments_lexer": "ipython3",
   "version": "3.8.6"
  },
  "orig_nbformat": 2,
  "kernelspec": {
   "name": "python3",
   "display_name": "Python 3",
   "language": "python"
  }
 },
 "nbformat": 4,
 "nbformat_minor": 2,
 "cells": [
  {
   "cell_type": "code",
   "execution_count": null,
   "metadata": {},
   "outputs": [],
   "source": [
    "#1. download repository from github (to avoid including unnecessary files)\n",
    "#2. replace empty data folder with filled data folder\n",
    "#3. zip repository locally\n",
    "#4. upload to google drive\n",
    "\n",
    "#get data and source code\n",
    "from google.colab import drive\n",
    "drive.mount('/content/drive')\n",
    "import os\n",
    "os.chdir('/content/drive/My Drive/Colab Notebooks/')\n",
    "!unzip \"2021-ltp-main.zip\"\n",
    "\n",
    "# all packages in requirements.txt (except development packages)\n",
    "!pip3 install --upgrade torch torchvision torchaudio numpy pandas nltk spacy benepar google-cloud-translate simpletransformers transformers tqdm\n",
    "\n",
    "# tqdm is dependency of simpletransformers\n",
    "# but possibly needs to be explicitly updated"
   ]
  },
  {
   "cell_type": "code",
   "execution_count": null,
   "metadata": {},
   "outputs": [],
   "source": [
    "# further data downloads for feature extraction\n",
    "import benepar\n",
    "benepar.download('benepar_en3')\n",
    "import spacy.cli\n",
    "spacy.cli.download(\"en_core_web_sm\")"
   ]
  },
  {
   "cell_type": "code",
   "execution_count": null,
   "metadata": {},
   "outputs": [],
   "source": [
    "# run this when you upload this notebook to folder Colab Notebooks on Google Drive\n",
    "# and inside Colab Notebooks you have the hwr-2021-main folder\n",
    "%ls\n",
    "%cd 2021-ltp-main/"
   ]
  },
  {
   "source": [
    "# run with CPU or GPU\n",
    "# to change to GPU change the runtime in Colab\n",
    "%run src/bert.py"
   ],
   "cell_type": "code",
   "metadata": {},
   "execution_count": null,
   "outputs": []
  },
  {
   "cell_type": "code",
   "execution_count": null,
   "metadata": {},
   "outputs": [],
   "source": [
    "# run with TPU\n",
    "# to change to TPU change the runtime in Colab\n",
    "import tensorflow as tf\n",
    "resolver = tf.distribute.cluster_resolver.TPUClusterResolver(tpu='')\n",
    "tf.config.experimental_connect_to_cluster(resolver)\n",
    "# This is the TPU initialization code that has to be at the beginning.\n",
    "tf.tpu.experimental.initialize_tpu_system(resolver)\n",
    "print(\"All devices: \", tf.config.list_logical_devices('TPU'))\n",
    "\n",
    "%run src/bert.py"
   ]
  }
 ]
}